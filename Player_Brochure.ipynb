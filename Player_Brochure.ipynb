{
 "cells": [
  {
   "cell_type": "markdown",
   "metadata": {},
   "source": [
    "# NBA Players Statistics Brochure"
   ]
  },
  {
   "cell_type": "markdown",
   "metadata": {},
   "source": [
    "The goal of this project is to create a PDF brochure with career statistics and earnings for a given NBA player. \n",
    "\n",
    "The brochure contains the following information: \n",
    "\n",
    "- name,\n",
    "- position,\n",
    "- nationality,\n",
    "- when was drafted ,\n",
    "- total years in the NBA,\n",
    "- logo of the current team (last team played for if retired),\n",
    "- average points per year,\n",
    "- average assists per year,\n",
    "- average rebounds per year ,\n",
    "- earnings per year.\n",
    "\n",
    "The statistics is obtained from Spotrac.com website. Only data after 2011 is available. The logos were downloaded from ESPN.com.\n"
   ]
  },
  {
   "cell_type": "markdown",
   "metadata": {},
   "source": [
    "## Description"
   ]
  },
  {
   "cell_type": "markdown",
   "metadata": {},
   "source": [
    "The project is done in two steps. First we download all the necessary data, and then create the brochure using that data."
   ]
  },
  {
   "cell_type": "markdown",
   "metadata": {},
   "source": [
    "### Collecting the data"
   ]
  },
  {
   "cell_type": "markdown",
   "metadata": {},
   "source": [
    "The data is obtained from Spotrac.com using  **BeautifulSoup** Python library.\n",
    "\n",
    "The following function is used to collect the data and store it in a CSV file."
   ]
  },
  {
   "cell_type": "markdown",
   "metadata": {},
   "source": [
    "Libraries used:"
   ]
  },
  {
   "cell_type": "code",
   "execution_count": 1,
   "metadata": {},
   "outputs": [],
   "source": [
    "import pandas as pd\n",
    "import urllib.request\n",
    "from bs4 import BeautifulSoup"
   ]
  },
  {
   "cell_type": "markdown",
   "metadata": {},
   "source": [
    "Before moving on to the function itself, we need to define just one helper function that cleans out the data in case a players has more than one source of income for a given year."
   ]
  },
  {
   "cell_type": "code",
   "execution_count": 2,
   "metadata": {},
   "outputs": [],
   "source": [
    "def clean_salary_entries(salary):\n",
    "    \"\"\" Sums up all the income because sometimes players have retained earnings.\"\"\"\n",
    "    sal = salary.replace(',', '').split('$')\n",
    "    sal = [int(s) for s in sal if s != '']\n",
    "    return '$' + f\"{sum(sal):,}\""
   ]
  },
  {
   "cell_type": "markdown",
   "metadata": {},
   "source": [
    "The function accepts player's name as a parameter. It uses that name to search for that player's page using Spotrac internal search engine. If only one player with that name exists, we go directly to the page. If there are several players with that name, we choose the first one, since that is usually the most famous player, and we assume he is the one we are looking for.   "
   ]
  },
  {
   "cell_type": "code",
   "execution_count": null,
   "metadata": {},
   "outputs": [],
   "source": [
    "def download_stats(player):\n",
    "    \"\"\" Collects stats and salary information for a player from Spotrac website as\n",
    "    of 2024. Only stats after 2011 are available.\"\"\"    \n",
    "    # Step 1. Get players ID on Spotrac.\n",
    "    player_name = player.lower().replace(' ', '+')\n",
    "\n",
    "    page = urllib.request.urlopen(f\"https://www.spotrac.com/search?q={player_name}\")\n",
    "    soup = BeautifulSoup(page, \"html.parser\")\n",
    "    rows = soup.find_all(\"a\", class_=\"list-group-item\")\n",
    "\n",
    "    players_page = ''\n",
    "    if len(rows) > 0:\n",
    "        id = rows[0]['href'].split('/')[-1]\n",
    "        players_page = f\"https://www.spotrac.com/nba/player/statistics/_/id/{id}\"\n",
    "    else:\n",
    "        players_page = f\"https://www.spotrac.com/search?q={player_name}\""
   ]
  },
  {
   "cell_type": "markdown",
   "metadata": {},
   "source": [
    "First, we get all the earnings of the player since 2011 per year. Spotrac has the salary information before year 2011 also, but not the statistcs before that year. In order for the data to be consistent with subsequent info, we delete all the earnings information before 2011."
   ]
  },
  {
   "cell_type": "code",
   "execution_count": null,
   "metadata": {},
   "outputs": [],
   "source": [
    "    # Step 2. Get salaries.\n",
    "    page = urllib.request.urlopen(players_page)\n",
    "\n",
    "    soup = BeautifulSoup(page, \"html.parser\")\n",
    "    rows = soup.find_all(\"tr\", class_=\"\")\n",
    "    earnings = []\n",
    "    header_met = False\n",
    "    for row in rows:\n",
    "        r = row.text.replace(' ', '').split()\n",
    "        if r == ['Year', 'Team(s)', 'Age', 'Base', 'Signing', 'Incentives', 'CashTotal', 'CashCumulative']:\n",
    "            header_met = True\n",
    "        if r == ['Years', 'Team', 'Base', 'Signing', 'Incentives', 'CashCumulative']:\n",
    "            header_met = False\n",
    "        if header_met:\n",
    "            earnings.append(r)\n",
    "\n",
    "    columns = ['Year', 'Age', 'BaseSalary', 'CashTotal', 'CashCumulative']\n",
    "    new_columns = ['Year', 'Age', 'BaseSalary']\n",
    "    salaries = pd.DataFrame(earnings[1:], columns=columns)\n",
    "    salaries = salaries.drop(salaries[salaries['Year'].astype(int) < 2011].index)\n",
    "    salaries = salaries[new_columns]\n",
    "    salaries = salaries.reset_index(drop=True)\n",
    "\n",
    "    salaries['BaseSalary'] = salaries['BaseSalary'].apply(clean_salary_entries)"
   ]
  },
  {
   "cell_type": "markdown",
   "metadata": {},
   "source": [
    "Next, we collect the playing statistics: average points, assists and rebounds per game for each year. Once we have it, we concatenate this information with the earnings and save it to a CSV file. Pandas library is used to perform all of that.\n",
    "\n",
    "We also store the name of the player's current team and if he is an active player in separate variables. We will need that later.\n"
   ]
  },
  {
   "cell_type": "code",
   "execution_count": null,
   "metadata": {},
   "outputs": [],
   "source": [
    "    # Step 3. Get stats.\n",
    "    rows = soup.find_all(\"tr\", class_=\"\")\n",
    "    statistics = []\n",
    "    header_met = False\n",
    "    for row in rows:\n",
    "        r = row.text.replace(' ', '').split()\n",
    "        if r == ['Year', 'Team', 'GP', 'GS', 'Min/Gm', 'Pt/Gm', 'Reb/Gm', 'Ast/Gm', 'Stl/Gm', 'Blk/Gm', 'FG%', '3PT%', 'FT%']:\n",
    "            header_met = True\n",
    "        if header_met: # Spotrac doesn't provide 'games started' info for 2011 and 2012.\n",
    "            if r[0] in ['2011', '2012']:\n",
    "                r.insert(3, 'n/a')\n",
    "            statistics.append(r)\n",
    "\n",
    "    statistics = pd.DataFrame(statistics[1:], columns=statistics[0])\n",
    "\n",
    "    current_team_abrv = statistics['Team'].values.copy()[0]\n",
    "    is_active = True if statistics['Year'].values[0] == '2024' else False\n",
    "\n",
    "    statistics = statistics.drop(statistics[statistics['Year'].astype(int) == 2024].index)\n",
    "    statistics = statistics.iloc[::-1].reset_index(drop=True)\n",
    "\n",
    "    # Join stats and salaries into one table.\n",
    "    statistics['Age'] = salaries['Age'].values\n",
    "    statistics['BaseSalary'] = salaries['BaseSalary'].values\n",
    "    final_columns = ['Year', 'Age', 'Team', 'GP', 'GS', 'Min/Gm', 'Pt/Gm', 'Reb/Gm', 'Ast/Gm', 'Stl/Gm', 'Blk/Gm', 'FG%', '3PT%', 'FT%', 'BaseSalary']\n",
    "    statistics = statistics[final_columns]\n",
    "\n",
    "    # Save stats to file.\n",
    "    csv_file_name = f\"{player.replace(' ', '_')}.csv\"\n",
    "    statistics.to_csv(f\"out_data/{csv_file_name}\")"
   ]
  },
  {
   "cell_type": "markdown",
   "metadata": {},
   "source": [
    "Finally, we collect some important bio information and store it in a .txt file."
   ]
  },
  {
   "cell_type": "code",
   "execution_count": null,
   "metadata": {},
   "outputs": [],
   "source": [
    "    # Step 4. Get players info.\n",
    "    rows = soup.find_all(\"div\", class_=\"row m-0 mt-0 pb-3\")\n",
    "    information = []\n",
    "    for row in rows:\n",
    "        r = row.text.split('/n')[0].split('\\n')\n",
    "        information.append(r)\n",
    "    information = [info for info in information[0] if info != '']\n",
    "\n",
    "    players_info = ['Team: ' + information[0], information[2], information[3], information[5], current_team_abrv, is_active]\n",
    "\n",
    "    # Save to file.\n",
    "    file_name = f\"{player.replace(' ', '_')}.txt\"\n",
    "    with open(f\"out_data/{file_name}\", \"w\") as output:\n",
    "        for row in players_info:\n",
    "            output.write(str(row) + '\\n')  "
   ]
  },
  {
   "cell_type": "markdown",
   "metadata": {},
   "source": [
    "All the information is saved to /out_data folder. Player's name is used as the CSV filename. "
   ]
  },
  {
   "cell_type": "markdown",
   "metadata": {},
   "source": [
    "### Creating the Brochure"
   ]
  },
  {
   "cell_type": "markdown",
   "metadata": {},
   "source": [
    "The brochure is created in PDF format using **fpdf** library.\n",
    "\n",
    "All the statistical information is taken from the CSV file that was previously saved.\n",
    "\n",
    "The PDF file created is stored in the root directory.\n",
    "\n",
    "Note: Some temporary file are being created while running this program. They are deleted at the end."
   ]
  },
  {
   "cell_type": "code",
   "execution_count": null,
   "metadata": {},
   "outputs": [],
   "source": [
    "import pandas as pd\n",
    "from fpdf import FPDF\n",
    "from fpdf.enums import XPos, YPos\n",
    "import matplotlib.pyplot as plt\n",
    "from matplotlib.ticker import FuncFormatter\n",
    "import os\n",
    "\n",
    "\n",
    "# Parameters of the brochure\n",
    "text_color = (105,105,105)\n",
    "graph_text_color = '#808080'\n",
    "stats_graph_color = '#658585'\n",
    "earnings_graph_color = '#677e84'\n",
    "linewidth = 1.4\n",
    "\n",
    "def create_img(model, fig):\n",
    "    fig.savefig('tmp.png')\n",
    "    model.image('tmp.png', x=5, h=20)\n",
    "    os.remove('tmp.png')\n",
    "\n",
    "def set_graph_parameters(ax, title_str):\n",
    "    ax.spines['bottom'].set_color(graph_text_color)\n",
    "    ax.spines['top'].set_color('#ffffff') \n",
    "    ax.spines['right'].set_color('#ffffff')\n",
    "    ax.spines['left'].set_color(graph_text_color)\n",
    "    ax.tick_params(axis='x', colors=graph_text_color)\n",
    "    ax.tick_params(axis='y', colors=graph_text_color)\n",
    "    plt.title(title_str, x=0.9, y=0.9, fontsize=8, font='Noto Sans', color='#808080')\n",
    "\n",
    "def print_stats_graph(x, y, model, title_str):\n",
    "    fig, ax = plt.subplots(figsize=(11, 2))\n",
    "    plt.plot(x, y, color=stats_graph_color, linewidth=linewidth)\n",
    "    set_graph_parameters(ax, title_str)\n",
    "    create_img(model, fig)\n",
    "\n",
    "def print_line(model, y_space, x_space, text, size, style):\n",
    "    model.set_font('helvetica', style=style, size=size)\n",
    "    model.set_text_color(text_color)\n",
    "    model.ln(y_space)\n",
    "    model.cell(x_space)\n",
    "    model.cell(text=text, new_y=YPos.NEXT)    \n",
    "\n",
    "def get_info(player):\n",
    "    filename = f\"out_data/{player.replace(' ', '_')}.txt\"\n",
    "    with open(filename) as f:\n",
    "        lines = f.read().splitlines()\n",
    "    return lines\n",
    "\n",
    "def create_pdf(player):\n",
    "    class PDF(FPDF):\n",
    "        \"\"\" Creating a footer for the brochure. \"\"\"\n",
    "        def footer(self):\n",
    "            self.set_y(-15.5)\n",
    "            self.set_x(-90)\n",
    "            self.set_font('Helvetica', 'I', 5)\n",
    "            self.set_text_color(200, 200, 200)\n",
    "            self.cell(0, 10, text=\"Data courtesy of Spotrac.com. Team logo downloaded from ESPN.com. Created by apnoorex\")\n",
    "            self.cell(10)\n",
    "            self.image('in_data/qrcode/qr_code.png', x=113, y=203.8, h=5)\n",
    "\n",
    "    # Import data\n",
    "    player_info = get_info(player)\n",
    "\n",
    "    filename = f\"out_data/{player.replace(' ', '_')}.csv\"\n",
    "    stats = pd.read_csv(filename)\n",
    "\n",
    "    # Variables\n",
    "    current_team = player_info[0].split(',')[0].split(':')[-1]\n",
    "    first_year = stats['Year'][0]\n",
    "    last_year = stats['Year'].iloc[-1]\n",
    "    earnings = [int(s.replace('$', '').replace(',', '')) for s in list(stats['BaseSalary'])]\n",
    "    points = [float(s) for s in list(stats['Pt/Gm'])]\n",
    "    assists = [float(s) for s in list(stats['Ast/Gm'])]\n",
    "    rebounds = [float(s) for s in list(stats['Reb/Gm'])]\n",
    "    years = [str(s) for s in list(stats['Year'])]\n",
    "\n",
    "    # Create a blank PDF page\n",
    "    pdf = PDF('P', 'mm', format=(124, 215))\n",
    "    pdf.add_page()\n",
    "\n",
    "    # Add logo\n",
    "    pdf.image(f\"in_data/logos/{player_info[-2]}.png\", x=12, y=12, h=40)\n",
    "\n",
    "    # First name\n",
    "    print_line(pdf, 6, 52, player.split()[0], 16, 'B')\n",
    "    # Last name\n",
    "    print_line(pdf, 2, 52, player.split()[1], 22, 'B')\n",
    "    # Position\n",
    "    print_line(pdf, 6, 52, 'Position:' + str(player_info[0].split(',')[-1]), 8, '')\n",
    "    # Country\n",
    "    print_line(pdf, 1.5, 52, player_info[2], 8, '')\n",
    "    # Experience\n",
    "    print_line(pdf, 1.5, 52, player_info[1], 8, '')\n",
    "    # Draft info\n",
    "    print_line(pdf, 1.5, 52, player_info[3], 8, '')\n",
    "\n",
    "    # Information block is different for retired and active players\n",
    "    if player_info[-1] == 'True':\n",
    "        about_1 = f\"{player.split()[0]} has earned ${sum(earnings):,} since {first_year} not including endorsement contracts.\"\n",
    "        about_2 = f\"He is currently playing for the{current_team}.\"\n",
    "    else:\n",
    "        about_1 = f\"{player.split()[0]} earned ${sum(earnings):,} since {first_year} not including endorsement contracts.\"\n",
    "        about_2 = f\"He retired in {last_year}.\"\n",
    "\n",
    "    # Summary line\n",
    "    print_line(pdf, 11, 0.001, about_1, 8, '')\n",
    "    # Current status line\n",
    "    print_line(pdf, 3, 0.001, about_2, 8, '')\n",
    "\n",
    "    # Career statistics statement\n",
    "    print_line(pdf, 7, 0.01, 'Career statistics:', 8, '')\n",
    "    pdf.ln(5)\n",
    "\n",
    "    # Points per game\n",
    "    print_stats_graph(years, assists, pdf, 'Points per game')\n",
    "    # Assists per game\n",
    "    print_stats_graph(years, points, pdf, 'Assists per game')\n",
    "    # Rebounds per game\n",
    "    print_stats_graph(years, rebounds, pdf, 'Rebounds per game')\n",
    "\n",
    "    # Earnings per year statement\n",
    "    print_line(pdf, 7, 0.01, 'Earnings per year:', 8, '')\n",
    "    pdf.ln(5)\n",
    "\n",
    "    # Earnings graph\n",
    "    fig, ax = plt.subplots(figsize=(11, 2))\n",
    "    plt.plot(years, earnings, color=earnings_graph_color, linewidth=1.5)\n",
    "    set_graph_parameters(ax, '')\n",
    "    ax = plt.gca()\n",
    "    mkfunc = lambda x, pos: '%1.1fM' % (x * 1e-6) if x >= 1e6 else '%1.1fK' % (x * 1e-3) if x >= 1e3 else '%1.1f' % x\n",
    "    mkformatter = FuncFormatter(mkfunc)\n",
    "    ax.yaxis.set_major_formatter(mkformatter)\n",
    "    fig.savefig('tmpg.png')\n",
    "    pdf.image('tmpg.png', x=5, h=20)\n",
    "    os.remove('tmpg.png')\n",
    "\n",
    "    # Save file\n",
    "    pdf.output(f\"NBA_{player.replace(' ', '_')}.pdf\")\n",
    "    "
   ]
  },
  {
   "cell_type": "markdown",
   "metadata": {},
   "source": [
    "### Top level code"
   ]
  },
  {
   "cell_type": "markdown",
   "metadata": {},
   "source": [
    "The following top level code creates a PDF brochure for every player whose name is provided by the user.\n",
    "\n",
    "Note: The program has the following limitations: 1. If a player retired because of an injury but before his contract expired (was getting paid, but didn't play), the result might be unexpected. Example: Chris Bosh. 2. If a player has incentives in addition to the salary, the result might be corrupted also. Example: Doug McDermott."
   ]
  },
  {
   "cell_type": "code",
   "execution_count": null,
   "metadata": {},
   "outputs": [],
   "source": [
    "from download_stats import download_stats\n",
    "from create_pdf import create_pdf\n",
    "\n",
    "players = ['Chris Paul', 'Russel Westbrook', 'Devin Booker', 'Kevin Love', 'Dwyane Wade']\n",
    "\n",
    "for player in players:\n",
    "    download_stats(player)\n",
    "    create_pdf(player)"
   ]
  }
 ],
 "metadata": {
  "kernelspec": {
   "display_name": "Python 3",
   "language": "python",
   "name": "python3"
  },
  "language_info": {
   "codemirror_mode": {
    "name": "ipython",
    "version": 3
   },
   "file_extension": ".py",
   "mimetype": "text/x-python",
   "name": "python",
   "nbconvert_exporter": "python",
   "pygments_lexer": "ipython3",
   "version": "3.11.9"
  }
 },
 "nbformat": 4,
 "nbformat_minor": 2
}
