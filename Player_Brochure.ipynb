{
 "cells": [
  {
   "cell_type": "markdown",
   "metadata": {},
   "source": [
    "# NBA Players Statistics Brochure"
   ]
  },
  {
   "cell_type": "markdown",
   "metadata": {},
   "source": [
    "The goal of this project is to create a PDF brochure with career statistics and earnings for a given NBA player. \n",
    "\n",
    "The brochure contains the following information: \n",
    "\n",
    "- name,\n",
    "- position,\n",
    "- nationality,\n",
    "- when was drafted ,\n",
    "- total years in the NBA,\n",
    "- logo of the current team (last team played for if retired),\n",
    "- average points per year,\n",
    "- average assists per year,\n",
    "- average rebounds per year ,\n",
    "- earnings per year.\n",
    "\n",
    "The statistics is obtained from Spotrac.com website. Only data after 2011 is available. The logos were downloaded from ESPN.com.\n"
   ]
  },
  {
   "cell_type": "markdown",
   "metadata": {},
   "source": [
    "## Description"
   ]
  },
  {
   "cell_type": "markdown",
   "metadata": {},
   "source": [
    "The project is done in two steps. First we download all the necessary data, and then create the brochure using that data."
   ]
  },
  {
   "cell_type": "markdown",
   "metadata": {},
   "source": [
    "### Collecting the data"
   ]
  },
  {
   "cell_type": "markdown",
   "metadata": {},
   "source": [
    "The data is obtained from Spotrac.com using  **BeautifulSoup** Python library.\n",
    "\n",
    "The following function is used to collect the data and store it in a CSV file."
   ]
  },
  {
   "cell_type": "markdown",
   "metadata": {},
   "source": [
    "Libraries used:"
   ]
  },
  {
   "cell_type": "code",
   "execution_count": 1,
   "metadata": {},
   "outputs": [],
   "source": [
    "import pandas as pd\n",
    "import urllib.request\n",
    "from bs4 import BeautifulSoup"
   ]
  },
  {
   "cell_type": "markdown",
   "metadata": {},
   "source": [
    "Before moving on to the function itself, we need to define just one helper function that cleans out the data in case a players has more than one source of income for a given year."
   ]
  },
  {
   "cell_type": "code",
   "execution_count": 2,
   "metadata": {},
   "outputs": [],
   "source": [
    "def clean_salary_entries(salary):\n",
    "    \"\"\" Sums up all the income because sometimes players have retained earnings.\"\"\"\n",
    "    sal = salary.replace(',', '').split('$')\n",
    "    sal = [int(s) for s in sal if s != '']\n",
    "    return '$' + f\"{sum(sal):,}\""
   ]
  },
  {
   "cell_type": "markdown",
   "metadata": {},
   "source": [
    "The function accepts player's name as a parameter. It uses that name to search for that player's page using Spotrac internal search engine. If only one player with that name exists, we go directly to the page. If there are several players with that name, we choose the first one, since that is usually the most famous player, and we assume he is the one we are looking for.   "
   ]
  },
  {
   "cell_type": "code",
   "execution_count": null,
   "metadata": {},
   "outputs": [],
   "source": [
    "def download_stats(player):\n",
    "    \"\"\" Collects stats and salary information for a player from Spotrac website as\n",
    "    of 2024. Only stats after 2011 are available.\"\"\"    \n",
    "    # Step 1. Get players ID on Spotrac.\n",
    "    player_name = player.lower().replace(' ', '+')\n",
    "\n",
    "    page = urllib.request.urlopen(f\"https://www.spotrac.com/search?q={player_name}\")\n",
    "    soup = BeautifulSoup(page, \"html.parser\")\n",
    "    rows = soup.find_all(\"a\", class_=\"list-group-item\")\n",
    "\n",
    "    players_page = ''\n",
    "    if len(rows) > 0:\n",
    "        id = rows[0]['href'].split('/')[-1]\n",
    "        players_page = f\"https://www.spotrac.com/nba/player/statistics/_/id/{id}\"\n",
    "    else:\n",
    "        players_page = f\"https://www.spotrac.com/search?q={player_name}\""
   ]
  },
  {
   "cell_type": "markdown",
   "metadata": {},
   "source": [
    "First, we get all the earnings of the player since 2011 per year. Spotrac has the salary information before year 2011 also, but not the statistcs before that year. In order for the data to be consistent with subsequent info, we delete all the earnings information before 2011."
   ]
  },
  {
   "cell_type": "code",
   "execution_count": null,
   "metadata": {},
   "outputs": [],
   "source": [
    "    # Step 2. Get salaries.\n",
    "    page = urllib.request.urlopen(players_page)\n",
    "\n",
    "    soup = BeautifulSoup(page, \"html.parser\")\n",
    "    rows = soup.find_all(\"tr\", class_=\"\")\n",
    "    earnings = []\n",
    "    header_met = False\n",
    "    for row in rows:\n",
    "        r = row.text.replace(' ', '').split()\n",
    "        if r == ['Year', 'Team(s)', 'Age', 'Base', 'Signing', 'Incentives', 'CashTotal', 'CashCumulative']:\n",
    "            header_met = True\n",
    "        if r == ['Years', 'Team', 'Base', 'Signing', 'Incentives', 'CashCumulative']:\n",
    "            header_met = False\n",
    "        if header_met:\n",
    "            earnings.append(r)\n",
    "\n",
    "    columns = ['Year', 'Age', 'BaseSalary', 'CashTotal', 'CashCumulative']\n",
    "    new_columns = ['Year', 'Age', 'BaseSalary']\n",
    "    salaries = pd.DataFrame(earnings[1:], columns=columns)\n",
    "    salaries = salaries.drop(salaries[salaries['Year'].astype(int) < 2011].index)\n",
    "    salaries = salaries[new_columns]\n",
    "    salaries = salaries.reset_index(drop=True)\n",
    "\n",
    "    salaries['BaseSalary'] = salaries['BaseSalary'].apply(clean_salary_entries)"
   ]
  },
  {
   "cell_type": "markdown",
   "metadata": {},
   "source": [
    "Next, we collect the playing statistics: average points, assists and rebounds per game for each year. Once we have it, we concatenate this information with the earnings and save it to a CSV file. Pandas library is used to perform all of that.\n",
    "\n",
    "We also store the name of the player's current team and if he is an active player in separate variables. We will need that later.\n"
   ]
  },
  {
   "cell_type": "code",
   "execution_count": null,
   "metadata": {},
   "outputs": [],
   "source": [
    "    # Step 3. Get stats.\n",
    "    rows = soup.find_all(\"tr\", class_=\"\")\n",
    "    statistics = []\n",
    "    header_met = False\n",
    "    for row in rows:\n",
    "        r = row.text.replace(' ', '').split()\n",
    "        if r == ['Year', 'Team', 'GP', 'GS', 'Min/Gm', 'Pt/Gm', 'Reb/Gm', 'Ast/Gm', 'Stl/Gm', 'Blk/Gm', 'FG%', '3PT%', 'FT%']:\n",
    "            header_met = True\n",
    "        if header_met: # Spotrac doesn't provide 'games started' info for 2011 and 2012.\n",
    "            if r[0] in ['2011', '2012']:\n",
    "                r.insert(3, 'n/a')\n",
    "            statistics.append(r)\n",
    "\n",
    "    statistics = pd.DataFrame(statistics[1:], columns=statistics[0])\n",
    "\n",
    "    current_team_abrv = statistics['Team'].values.copy()[0]\n",
    "    is_active = True if statistics['Year'].values[0] == '2024' else False\n",
    "\n",
    "    statistics = statistics.drop(statistics[statistics['Year'].astype(int) == 2024].index)\n",
    "    statistics = statistics.iloc[::-1].reset_index(drop=True)\n",
    "\n",
    "    # Join stats and salaries into one table.\n",
    "    statistics['Age'] = salaries['Age'].values\n",
    "    statistics['BaseSalary'] = salaries['BaseSalary'].values\n",
    "    final_columns = ['Year', 'Age', 'Team', 'GP', 'GS', 'Min/Gm', 'Pt/Gm', 'Reb/Gm', 'Ast/Gm', 'Stl/Gm', 'Blk/Gm', 'FG%', '3PT%', 'FT%', 'BaseSalary']\n",
    "    statistics = statistics[final_columns]\n",
    "\n",
    "    # Save stats to file.\n",
    "    csv_file_name = f\"{player.replace(' ', '_')}.csv\"\n",
    "    statistics.to_csv(f\"out_data/{csv_file_name}\")"
   ]
  },
  {
   "cell_type": "markdown",
   "metadata": {},
   "source": [
    "Finally, we collect some important bio information and store it in a .txt file."
   ]
  },
  {
   "cell_type": "code",
   "execution_count": null,
   "metadata": {},
   "outputs": [],
   "source": [
    "    # Step 4. Get players info.\n",
    "    rows = soup.find_all(\"div\", class_=\"row m-0 mt-0 pb-3\")\n",
    "    information = []\n",
    "    for row in rows:\n",
    "        r = row.text.split('/n')[0].split('\\n')\n",
    "        information.append(r)\n",
    "    information = [info for info in information[0] if info != '']\n",
    "\n",
    "    players_info = ['Team: ' + information[0], information[2], information[3], information[5], current_team_abrv, is_active]\n",
    "\n",
    "    # Save to file.\n",
    "    file_name = f\"{player.replace(' ', '_')}.txt\"\n",
    "    with open(f\"out_data/{file_name}\", \"w\") as output:\n",
    "        for row in players_info:\n",
    "            output.write(str(row) + '\\n')  "
   ]
  },
  {
   "cell_type": "markdown",
   "metadata": {},
   "source": [
    "All the information is saved to /out_data folder. Player's name is used as a CSV filename. "
   ]
  },
  {
   "cell_type": "markdown",
   "metadata": {},
   "source": [
    "### Creating the Brochure"
   ]
  },
  {
   "cell_type": "markdown",
   "metadata": {},
   "source": [
    "The brochure is created in PDF format using **fpdf** library.\n",
    "\n",
    "All the statistical information is taken from the CSV file that was previously saved.\n",
    "\n",
    "The code for this step involves a lot of text formatting, therefore is monotonous and bulky. For your convenience, it is not provided here. The code can be found in create_pdf.py file in the root directory for this project.\n",
    "\n",
    "The resulting PDF file created is stored in the root directory also.\n",
    "\n",
    "Note: some temporary file are being created while running this program. They are deleted at the end."
   ]
  },
  {
   "cell_type": "markdown",
   "metadata": {},
   "source": [
    "### Top level code"
   ]
  },
  {
   "cell_type": "markdown",
   "metadata": {},
   "source": [
    "The following top level code creates a PDF brochure for every player whose name is provided by the user.\n",
    "\n",
    "The download_stats function is imported from the corresponding file. In the code above, this function is broken into pieces for explanation purposes and therefore cannot be run directly from this notebook.\n",
    "\n",
    "Note: The program has the following limitations: 1. If a player retired because of an injury but before his contract expired (was getting paid, but didn't play), the result might be unexpected. Example: Chris Bosh. 2. If a player has incentives in addition to the salary, the result might be corrupted also. Example: Doug McDermott."
   ]
  },
  {
   "cell_type": "code",
   "execution_count": null,
   "metadata": {},
   "outputs": [],
   "source": [
    "from download_stats import download_stats\n",
    "from create_pdf import create_pdf\n",
    "\n",
    "players = ['Chris Paul', 'Russel Westbrook', 'Devin Booker', 'Kevin Love', 'Dwyane Wade']\n",
    "\n",
    "for player in players:\n",
    "    download_stats(player)\n",
    "    create_pdf(player)"
   ]
  }
 ],
 "metadata": {
  "kernelspec": {
   "display_name": "Python 3",
   "language": "python",
   "name": "python3"
  },
  "language_info": {
   "codemirror_mode": {
    "name": "ipython",
    "version": 3
   },
   "file_extension": ".py",
   "mimetype": "text/x-python",
   "name": "python",
   "nbconvert_exporter": "python",
   "pygments_lexer": "ipython3",
   "version": "3.11.9"
  }
 },
 "nbformat": 4,
 "nbformat_minor": 2
}
